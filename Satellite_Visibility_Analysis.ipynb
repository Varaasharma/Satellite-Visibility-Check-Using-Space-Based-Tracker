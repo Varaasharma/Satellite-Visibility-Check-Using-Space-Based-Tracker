{
 "cells": [
  {
   "cell_type": "code",
   "execution_count": 54,
   "id": "ecde9eed-0436-4b6c-ba48-b447ebbae4e4",
   "metadata": {},
   "outputs": [],
   "source": [
    "import numpy as np\n",
    "from sgp4.api import Satrec \n",
    "from astropy.time import Time\n",
    "import astropy.units as u \n",
    "\n",
    "from poliastro.bodies import Earth\n",
    "from poliastro.twobody import Orbit\n",
    "\n",
    "from astropy.coordinates import get_sun\n",
    "from poliastro.constants import R_earth\n",
    "import astropy.units as u"
   ]
  },
  {
   "cell_type": "code",
   "execution_count": 56,
   "id": "30e0986b-cffb-489f-8aaf-01cfd684e463",
   "metadata": {},
   "outputs": [],
   "source": [
    "line_1 = \"1 63223U 25052P   25244.59601767  .00010814  00000-0  51235-3 0  9991\"\n",
    "line_2 = \"2 63223  97.4217 137.0451 0006365  74.2830 285.9107 15.19475170 25990\""
   ]
  },
  {
   "cell_type": "code",
   "execution_count": 58,
   "id": "b9c38a75-812a-48be-9b52-a6efac2384a6",
   "metadata": {},
   "outputs": [],
   "source": [
    "sat = Satrec.twoline2rv(line_1, line_2)"
   ]
  },
  {
   "cell_type": "code",
   "execution_count": 60,
   "id": "205cc4bd-ba55-400d-9f6a-60b149badf34",
   "metadata": {},
   "outputs": [],
   "source": [
    "start_time = Time(\"2025-09-01 00:00:00\", scale=\"utc\") #Tracker's epoch \n",
    "\n",
    "time_step = 60 \n",
    "total_steps = int(((24*3600)/time_step) + 1) \n",
    "\n",
    "time_step_array = start_time + np.arange(total_steps) * time_step * u.s"
   ]
  },
  {
   "cell_type": "code",
   "execution_count": 62,
   "id": "4b7b88b1-ddf1-4970-a7a4-edfcc5cdfe5b",
   "metadata": {},
   "outputs": [],
   "source": [
    "pos_vec_list = np.empty((total_steps, 3))\n",
    "vel_vec_list = np.empty((total_steps, 3))\n",
    "errors = np.zeros(total_steps, dtype=int)\n",
    "\n",
    "for i, t in enumerate(time_step_array):\n",
    "    e, r, v = sat.sgp4(t.jd1, t.jd2)\n",
    "    errors[i] = e\n",
    "    if e == 0:\n",
    "        pos_vec_list[i] = r\n",
    "        vel_vec_list[i] = v\n",
    "    else:\n",
    "        pos_vec_list[i] = np.nan\n",
    "        vel_vec_list[i] = np.nan\n",
    "        print(f\"SGP4 error {e} at step {i}, time {t.iso}\")"
   ]
  },
  {
   "cell_type": "code",
   "execution_count": 64,
   "id": "bc10393f-1765-48ac-b134-693883eaf688",
   "metadata": {},
   "outputs": [],
   "source": [
    "sptracker_epoch = Time(\"2025-09-01 00:00:00\", scale=\"utc\")\n",
    "\n",
    "sptracker_orbit = Orbit.from_classical(\n",
    "    Earth,\n",
    "    6878 * u.km,          #SMA\n",
    "    0 * u.one,            #Eccentricity\n",
    "    97.4 * u.deg,         #Inclination\n",
    "    72.628 * u.deg,       #RAAN\n",
    "    331.7425 * u.deg,     #Arg of Perigee\n",
    "    0 * u.deg,            #Mean Anomaly \n",
    "    epoch= sptracker_epoch\n",
    ")"
   ]
  },
  {
   "cell_type": "code",
   "execution_count": 66,
   "id": "c56165df-75f3-442c-a903-6d2514e820da",
   "metadata": {},
   "outputs": [
    {
     "name": "stdout",
     "output_type": "stream",
     "text": [
      "[ 1408.60036661  5907.21800977 -3229.16465857] km\n",
      "[1.90033693 3.18185482 6.64962232] km / s\n"
     ]
    }
   ],
   "source": [
    "print(sptracker_orbit.r)\n",
    "print(sptracker_orbit.v)\n"
   ]
  },
  {
   "cell_type": "code",
   "execution_count": 68,
   "id": "8c0d01ac-8af6-47a4-ac8f-c991becd69c1",
   "metadata": {},
   "outputs": [],
   "source": [
    "sptracker_pos = np.empty((total_steps, 3))\n",
    "sptracker_vel = np.empty((total_steps, 3))\n",
    "\n",
    "for i, t in enumerate(time_step_array):\n",
    "    propagated = sptracker_orbit.propagate(t - sptracker_orbit.epoch)\n",
    "    sptracker_pos[i] = propagated.r.to(u.km).value\n",
    "    sptracker_vel[i] = propagated.v.to(u.km / u.s).value"
   ]
  },
  {
   "cell_type": "code",
   "execution_count": 69,
   "id": "a7701829-5416-498e-a3c9-e1df8bf7c848",
   "metadata": {},
   "outputs": [],
   "source": [
    "rel_vec = pos_vec_list - sptracker_pos\n",
    "rel_dist = np.linalg.norm(rel_vec, axis=1)\n",
    "\n",
    "valid = np.isfinite(rel_dist)"
   ]
  },
  {
   "cell_type": "code",
   "execution_count": 74,
   "id": "f3fc2215-d179-40fb-b545-e808c5a3bc64",
   "metadata": {},
   "outputs": [],
   "source": [
    "eps = 1e-9\n",
    "\n",
    "vel_mag = np.linalg.norm(sptracker_vel, axis=1)\n",
    "vel_mag_copy = vel_mag.copy()\n",
    "vel_mag_copy[vel_mag_copy < eps] = np.nan\n",
    "vel_unit = sptracker_vel  / vel_mag_copy[:, None]\n",
    "\n",
    "rel_mag_copy = rel_dist.copy()\n",
    "rel_mag_copy[rel_mag_copy < eps] = np.nan\n",
    "rel_unit = rel_vec / rel_mag_copy[:, None]  "
   ]
  },
  {
   "cell_type": "code",
   "execution_count": 76,
   "id": "c052538e-8d16-4983-9001-d3f3774fefa7",
   "metadata": {},
   "outputs": [],
   "source": [
    "#Dot product \n",
    "cos_theta = np.sum(vel_unit * rel_unit, axis=1)\n",
    "\n",
    "#Range\n",
    "cos_theta = np.clip(cos_theta, -1.0, 1.0)\n",
    "\n",
    "theta_deg = np.degrees(np.arccos(cos_theta))\n",
    "\n",
    "theta_deg[~valid] = np.nan"
   ]
  },
  {
   "cell_type": "code",
   "execution_count": 78,
   "id": "d424c826-07da-417c-a6ae-f2df443d79f9",
   "metadata": {},
   "outputs": [],
   "source": [
    "half_fov = 15.0\n",
    "\n",
    "in_fov = (theta_deg <= half_fov) & np.isfinite(theta_deg)"
   ]
  },
  {
   "cell_type": "code",
   "execution_count": 80,
   "id": "a81f8feb-47e9-485d-8bd9-b6477867a402",
   "metadata": {},
   "outputs": [
    {
     "name": "stdout",
     "output_type": "stream",
     "text": [
      "No crossings found in the time window.\n"
     ]
    }
   ],
   "source": [
    "#Entry and exit edges \n",
    "b = in_fov.astype(int)\n",
    "difference = np.diff(b, prepend=0)\n",
    "\n",
    "enter_index = np.where(difference == 1)[0] #Entry index (false to true) \n",
    "exit_index  = np.where(difference == -1)[0] #Exit index (true to false)\n",
    "\n",
    "#In case the object is within FOV before the simulation\n",
    "if in_fov[0]:\n",
    "    enter_index = np.insert(enter_index, 0, 0)\n",
    "\n",
    "#In case the object stays within the FOV at the end of the simulation\n",
    "if in_fov[-1]:\n",
    "    exit_index = np.append(exit_index, len(in_fov)-1)\n",
    "\n",
    "crossings = []\n",
    "for start_i, end_i in zip(enter_index, exit_index):\n",
    "    start_time = time_step_array[start_i]\n",
    "    end_time   = time_step_array[end_i]\n",
    "    duration_s = (end_time - start_time).to('s').value\n",
    "\n",
    "    crossings.append({\n",
    "        \"start_index\": int(start_i),\n",
    "        \"end_index\": int(end_i),\n",
    "        \"start_time\": start_time.iso,\n",
    "        \"end_time\": end_time.iso,\n",
    "        \"duration_sec\": float(duration_s)\n",
    "    })\n",
    "\n",
    "\n",
    "if crossings:\n",
    "    print(f\"Found {len(crossings)} crossing(s):\")\n",
    "    for k, ev in enumerate(crossings, 1):\n",
    "        print(f\"{k}. {ev['start_time']} -> {ev['end_time']}, duration {ev['duration_sec']:.0f}s, min angle {ev['min_angle_deg']:.2f}°\")\n",
    "else:\n",
    "    print(\"No crossings found in the time window.\")"
   ]
  },
  {
   "cell_type": "code",
   "execution_count": 82,
   "id": "58e80b45-4581-4184-b5f2-0805612b7576",
   "metadata": {},
   "outputs": [],
   "source": [
    "#Range check\n",
    "range_check = rel_dist <= 1000"
   ]
  },
  {
   "cell_type": "code",
   "execution_count": 84,
   "id": "70410fd2-7960-4dde-8742-bf30c99ae109",
   "metadata": {},
   "outputs": [],
   "source": [
    "#Sunlight check\n",
    "\n",
    "sun_vec = np.empty_like(pos_vec_list) \n",
    "\n",
    "for i, t in enumerate(time_step_array):\n",
    "    sun_icrf = get_sun(t)             \n",
    "    sun_vec[i] = sun_icrf.cartesian.xyz.to(u.km).value"
   ]
  },
  {
   "cell_type": "code",
   "execution_count": 86,
   "id": "92551b5f-f002-4be6-b19b-62ee170a50da",
   "metadata": {},
   "outputs": [],
   "source": [
    "# Vector from Earth to Sun and to object\n",
    "r_obj = pos_vec_list\n",
    "r_sun = sun_vec\n",
    "\n",
    "# Compute dot product to check alignment\n",
    "r_sun_unit = r_sun / np.linalg.norm(r_sun, axis=1)[:, None]\n",
    "proj = np.sum(r_obj * r_sun_unit, axis=1)  # projection of object vector along sun direction\n",
    "shadow = (proj > 0) & (np.linalg.norm(r_obj - r_sun_unit * proj[:, None], axis=1) < R_earth.value)\n",
    "sunlit = ~shadow\n"
   ]
  },
  {
   "cell_type": "code",
   "execution_count": 88,
   "id": "5f783e52-d26b-47b4-bdc7-ab2f31449f56",
   "metadata": {},
   "outputs": [],
   "source": [
    "visible = in_fov & range_check & sunlit\n"
   ]
  },
  {
   "cell_type": "code",
   "execution_count": 90,
   "id": "73a4c026-406e-4d2f-bd67-c3d38444ac55",
   "metadata": {},
   "outputs": [
    {
     "name": "stdout",
     "output_type": "stream",
     "text": [
      "No visible crossings found in this 24-hour period.\n"
     ]
    }
   ],
   "source": [
    "b = visible.astype(int)\n",
    "diff = np.diff(b, prepend=0)\n",
    "\n",
    "enter_vis = np.where(diff == 1)[0]\n",
    "exit_vis  = np.where(diff == -1)[0]\n",
    "\n",
    "if visible[0]:\n",
    "    enter_vis = np.insert(enter_vis, 0, 0)\n",
    "if visible[-1]:\n",
    "    exit_vis = np.append(exit_vis, len(visible)-1)\n",
    "\n",
    "visible_crossings = []\n",
    "for s, e in zip(enter_vis, exit_vis):\n",
    "    start_t = time_step_array[s]\n",
    "    end_t   = time_step_array[e]\n",
    "    duration = (end_t - start_t).to('s').value\n",
    "    visible_crossings.append({\n",
    "        \"start_time\": start_t.iso,\n",
    "        \"end_time\": end_t.iso,\n",
    "        \"duration_s\": float(duration)\n",
    "    })\n",
    "\n",
    "if visible_crossings:\n",
    "    print(f\"Found {len(visible_crossings)} visible crossings:\")\n",
    "    for k, ev in enumerate(visible_crossings, 1):\n",
    "        print(f\"{k}. {ev['start_time']} -> {ev['end_time']} ({ev['duration_s']:.0f}s)\")\n",
    "else:\n",
    "    print(\"No visible crossings found in this 24-hour period.\")\n"
   ]
  },
  {
   "cell_type": "code",
   "execution_count": null,
   "id": "581b87e8-035f-4f27-94ac-b3a3b9472791",
   "metadata": {},
   "outputs": [],
   "source": []
  }
 ],
 "metadata": {
  "kernelspec": {
   "display_name": "Python [conda env:base] *",
   "language": "python",
   "name": "conda-base-py"
  },
  "language_info": {
   "codemirror_mode": {
    "name": "ipython",
    "version": 3
   },
   "file_extension": ".py",
   "mimetype": "text/x-python",
   "name": "python",
   "nbconvert_exporter": "python",
   "pygments_lexer": "ipython3",
   "version": "3.12.7"
  }
 },
 "nbformat": 4,
 "nbformat_minor": 5
}
